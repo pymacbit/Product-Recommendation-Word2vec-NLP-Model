{
 "cells": [
  {
   "cell_type": "markdown",
   "metadata": {},
   "source": [
    "# Online Product Recommendation\n",
    "\n",
    "In this repo, I Implemented word2vec NLP Model to create a Recommendation engine that automatically recommends a certain number of products to its consumers based on historical purchase behavior.\n",
    "\n",
    "The E-Commerce data is taken from the UCI repository http://archive.ics.uci.edu/ml/machine-learning-databases/00352/\n",
    "\n",
    "-------------------------------------------------------\n",
    "\n"
   ]
  },
  {
   "cell_type": "markdown",
   "metadata": {
    "colab_type": "text",
    "id": "oWoXDfAqBq8H"
   },
   "source": [
    "#### Import Libraries and Load Data\n",
    "\n",
    "\n"
   ]
  },
  {
   "cell_type": "code",
   "execution_count": null,
   "metadata": {},
   "outputs": [],
   "source": [
    "from google.colab import drive\n",
    "drive.mount('/content/drive')"
   ]
  },
  {
   "cell_type": "code",
   "execution_count": 2,
   "metadata": {
    "colab": {
     "base_uri": "https://localhost:8080/",
     "height": 34
    },
    "colab_type": "code",
    "executionInfo": {
     "elapsed": 1986,
     "status": "ok",
     "timestamp": 1586265466627,
     "user": {
      "displayName": "Yatindra",
      "photoUrl": "https://lh3.googleusercontent.com/a-/AOh14GgYWe5t5ddtxjf1wN1CT9caIjN1wiTmokYK5c-Dfg=s64",
      "userId": "15503128090634612331"
     },
     "user_tz": -330
    },
    "id": "JWB-3XzVCZov",
    "outputId": "5e89ebe8-8871-45ad-a756-d103942a5504"
   },
   "outputs": [
    {
     "name": "stdout",
     "output_type": "stream",
     "text": [
      "/content/drive/My Drive/Colab Notebooks/Projects/Word2vec recommendation model\n"
     ]
    }
   ],
   "source": [
    "%cd /content/drive/My Drive/Colab Notebooks/Projects/Word2vec recommendation model"
   ]
  },
  {
   "cell_type": "code",
   "execution_count": 3,
   "metadata": {
    "colab": {
     "base_uri": "https://localhost:8080/",
     "height": 34
    },
    "colab_type": "code",
    "executionInfo": {
     "elapsed": 4383,
     "status": "ok",
     "timestamp": 1586265472109,
     "user": {
      "displayName": "Yatindra",
      "photoUrl": "https://lh3.googleusercontent.com/a-/AOh14GgYWe5t5ddtxjf1wN1CT9caIjN1wiTmokYK5c-Dfg=s64",
      "userId": "15503128090634612331"
     },
     "user_tz": -330
    },
    "id": "qwsNxmSQCmBc",
    "outputId": "f27e9175-1c14-4aa1-8067-b594a45abae9"
   },
   "outputs": [
    {
     "name": "stdout",
     "output_type": "stream",
     "text": [
      "'Online Retail.xlsx'   word2vec_2.model  'Word2Vec recommendation.ipynb'\n"
     ]
    }
   ],
   "source": [
    "!ls"
   ]
  },
  {
   "cell_type": "code",
   "execution_count": null,
   "metadata": {
    "colab": {},
    "colab_type": "code",
    "id": "1uwQJoBqBq8J"
   },
   "outputs": [],
   "source": [
    "import pandas as pd\n",
    "import numpy as np\n",
    "import random\n",
    "from tqdm import tqdm\n",
    "from gensim.models import Word2Vec \n",
    "import matplotlib.pyplot as plt\n",
    "%matplotlib inline\n",
    "\n",
    "import warnings;\n",
    "warnings.filterwarnings('ignore')"
   ]
  },
  {
   "cell_type": "code",
   "execution_count": null,
   "metadata": {
    "colab": {},
    "colab_type": "code",
    "id": "zOJ_V_zrBq8O"
   },
   "outputs": [],
   "source": [
    "df = pd.read_excel('Online Retail.xlsx')"
   ]
  },
  {
   "cell_type": "code",
   "execution_count": 6,
   "metadata": {
    "colab": {
     "base_uri": "https://localhost:8080/",
     "height": 289
    },
    "colab_type": "code",
    "executionInfo": {
     "elapsed": 1443,
     "status": "ok",
     "timestamp": 1586265602463,
     "user": {
      "displayName": "Yatindra",
      "photoUrl": "https://lh3.googleusercontent.com/a-/AOh14GgYWe5t5ddtxjf1wN1CT9caIjN1wiTmokYK5c-Dfg=s64",
      "userId": "15503128090634612331"
     },
     "user_tz": -330
    },
    "id": "HDz0cCIgBq8T",
    "outputId": "68dfb47d-c6df-414c-92cf-3187c733c5d4"
   },
   "outputs": [
    {
     "data": {
      "text/html": [
       "<div>\n",
       "<style scoped>\n",
       "    .dataframe tbody tr th:only-of-type {\n",
       "        vertical-align: middle;\n",
       "    }\n",
       "\n",
       "    .dataframe tbody tr th {\n",
       "        vertical-align: top;\n",
       "    }\n",
       "\n",
       "    .dataframe thead th {\n",
       "        text-align: right;\n",
       "    }\n",
       "</style>\n",
       "<table border=\"1\" class=\"dataframe\">\n",
       "  <thead>\n",
       "    <tr style=\"text-align: right;\">\n",
       "      <th></th>\n",
       "      <th>InvoiceNo</th>\n",
       "      <th>StockCode</th>\n",
       "      <th>Description</th>\n",
       "      <th>Quantity</th>\n",
       "      <th>InvoiceDate</th>\n",
       "      <th>UnitPrice</th>\n",
       "      <th>CustomerID</th>\n",
       "      <th>Country</th>\n",
       "    </tr>\n",
       "  </thead>\n",
       "  <tbody>\n",
       "    <tr>\n",
       "      <th>0</th>\n",
       "      <td>536365</td>\n",
       "      <td>85123A</td>\n",
       "      <td>WHITE HANGING HEART T-LIGHT HOLDER</td>\n",
       "      <td>6</td>\n",
       "      <td>2010-12-01 08:26:00</td>\n",
       "      <td>2.55</td>\n",
       "      <td>17850.0</td>\n",
       "      <td>United Kingdom</td>\n",
       "    </tr>\n",
       "    <tr>\n",
       "      <th>1</th>\n",
       "      <td>536365</td>\n",
       "      <td>71053</td>\n",
       "      <td>WHITE METAL LANTERN</td>\n",
       "      <td>6</td>\n",
       "      <td>2010-12-01 08:26:00</td>\n",
       "      <td>3.39</td>\n",
       "      <td>17850.0</td>\n",
       "      <td>United Kingdom</td>\n",
       "    </tr>\n",
       "    <tr>\n",
       "      <th>2</th>\n",
       "      <td>536365</td>\n",
       "      <td>84406B</td>\n",
       "      <td>CREAM CUPID HEARTS COAT HANGER</td>\n",
       "      <td>8</td>\n",
       "      <td>2010-12-01 08:26:00</td>\n",
       "      <td>2.75</td>\n",
       "      <td>17850.0</td>\n",
       "      <td>United Kingdom</td>\n",
       "    </tr>\n",
       "    <tr>\n",
       "      <th>3</th>\n",
       "      <td>536365</td>\n",
       "      <td>84029G</td>\n",
       "      <td>KNITTED UNION FLAG HOT WATER BOTTLE</td>\n",
       "      <td>6</td>\n",
       "      <td>2010-12-01 08:26:00</td>\n",
       "      <td>3.39</td>\n",
       "      <td>17850.0</td>\n",
       "      <td>United Kingdom</td>\n",
       "    </tr>\n",
       "    <tr>\n",
       "      <th>4</th>\n",
       "      <td>536365</td>\n",
       "      <td>84029E</td>\n",
       "      <td>RED WOOLLY HOTTIE WHITE HEART.</td>\n",
       "      <td>6</td>\n",
       "      <td>2010-12-01 08:26:00</td>\n",
       "      <td>3.39</td>\n",
       "      <td>17850.0</td>\n",
       "      <td>United Kingdom</td>\n",
       "    </tr>\n",
       "  </tbody>\n",
       "</table>\n",
       "</div>"
      ],
      "text/plain": [
       "  InvoiceNo StockCode  ... CustomerID         Country\n",
       "0    536365    85123A  ...    17850.0  United Kingdom\n",
       "1    536365     71053  ...    17850.0  United Kingdom\n",
       "2    536365    84406B  ...    17850.0  United Kingdom\n",
       "3    536365    84029G  ...    17850.0  United Kingdom\n",
       "4    536365    84029E  ...    17850.0  United Kingdom\n",
       "\n",
       "[5 rows x 8 columns]"
      ]
     },
     "execution_count": 6,
     "metadata": {
      "tags": []
     },
     "output_type": "execute_result"
    }
   ],
   "source": [
    "df.head()"
   ]
  },
  {
   "cell_type": "markdown",
   "metadata": {
    "colab_type": "text",
    "id": "7064Xm5tBq8Z"
   },
   "source": [
    "Given below is the description of the fields in this dataset:\n",
    "\n",
    "1. __InvoiceNo:__ Invoice number, a unique number assigned to each transaction.\n",
    "2. __StockCode:__ Product/item code. a unique number assigned to each distinct product.\n",
    "3. __Description:__ Product description\n",
    "4. __Quantity:__ The quantities of each product per transaction.\n",
    "5. __InvoiceDate:__ Invoice Date and time. The day and time when each transaction was generated.\n",
    "6. __CustomerID:__ Customer number, a unique number assigned to each customer.\n",
    "\n"
   ]
  },
  {
   "cell_type": "code",
   "execution_count": 7,
   "metadata": {
    "colab": {
     "base_uri": "https://localhost:8080/",
     "height": 34
    },
    "colab_type": "code",
    "executionInfo": {
     "elapsed": 848,
     "status": "ok",
     "timestamp": 1586265604654,
     "user": {
      "displayName": "Yatindra",
      "photoUrl": "https://lh3.googleusercontent.com/a-/AOh14GgYWe5t5ddtxjf1wN1CT9caIjN1wiTmokYK5c-Dfg=s64",
      "userId": "15503128090634612331"
     },
     "user_tz": -330
    },
    "id": "sk7psB39Bq8a",
    "outputId": "853133f1-686e-4b99-9573-5efc7622781f"
   },
   "outputs": [
    {
     "data": {
      "text/plain": [
       "(541909, 8)"
      ]
     },
     "execution_count": 7,
     "metadata": {
      "tags": []
     },
     "output_type": "execute_result"
    }
   ],
   "source": [
    "df.shape"
   ]
  },
  {
   "cell_type": "code",
   "execution_count": 8,
   "metadata": {
    "colab": {
     "base_uri": "https://localhost:8080/",
     "height": 272
    },
    "colab_type": "code",
    "executionInfo": {
     "elapsed": 1529,
     "status": "ok",
     "timestamp": 1586265606354,
     "user": {
      "displayName": "Yatindra",
      "photoUrl": "https://lh3.googleusercontent.com/a-/AOh14GgYWe5t5ddtxjf1wN1CT9caIjN1wiTmokYK5c-Dfg=s64",
      "userId": "15503128090634612331"
     },
     "user_tz": -330
    },
    "id": "ceGuAPthC4SL",
    "outputId": "cd0e65cd-06ac-41c6-ec7f-e1a68ee85790"
   },
   "outputs": [
    {
     "name": "stdout",
     "output_type": "stream",
     "text": [
      "<class 'pandas.core.frame.DataFrame'>\n",
      "RangeIndex: 541909 entries, 0 to 541908\n",
      "Data columns (total 8 columns):\n",
      " #   Column       Non-Null Count   Dtype         \n",
      "---  ------       --------------   -----         \n",
      " 0   InvoiceNo    541909 non-null  object        \n",
      " 1   StockCode    541909 non-null  object        \n",
      " 2   Description  540455 non-null  object        \n",
      " 3   Quantity     541909 non-null  int64         \n",
      " 4   InvoiceDate  541909 non-null  datetime64[ns]\n",
      " 5   UnitPrice    541909 non-null  float64       \n",
      " 6   CustomerID   406829 non-null  float64       \n",
      " 7   Country      541909 non-null  object        \n",
      "dtypes: datetime64[ns](1), float64(2), int64(1), object(4)\n",
      "memory usage: 33.1+ MB\n"
     ]
    }
   ],
   "source": [
    "df.info()"
   ]
  },
  {
   "cell_type": "markdown",
   "metadata": {
    "colab_type": "text",
    "id": "-sRR3FL0Bq8e"
   },
   "source": [
    "The dataset contains 541,909 transactions. That is a pretty good number for us."
   ]
  },
  {
   "cell_type": "markdown",
   "metadata": {
    "colab_type": "text",
    "id": "fGcfbhdHBq8e"
   },
   "source": [
    "-------------------------------------------------------\n",
    "\n",
    "### Check for Missing Data\n",
    "\n",
    "-------------------------------------------------------\n",
    "\n"
   ]
  },
  {
   "cell_type": "code",
   "execution_count": 9,
   "metadata": {
    "colab": {
     "base_uri": "https://localhost:8080/",
     "height": 170
    },
    "colab_type": "code",
    "executionInfo": {
     "elapsed": 1344,
     "status": "ok",
     "timestamp": 1586265609452,
     "user": {
      "displayName": "Yatindra",
      "photoUrl": "https://lh3.googleusercontent.com/a-/AOh14GgYWe5t5ddtxjf1wN1CT9caIjN1wiTmokYK5c-Dfg=s64",
      "userId": "15503128090634612331"
     },
     "user_tz": -330
    },
    "id": "Zx3mcNrqBq8f",
    "outputId": "c80b6ea0-fcec-4c2e-e0fa-077656b12e61"
   },
   "outputs": [
    {
     "data": {
      "text/plain": [
       "InvoiceNo           0\n",
       "StockCode           0\n",
       "Description      1454\n",
       "Quantity            0\n",
       "InvoiceDate         0\n",
       "UnitPrice           0\n",
       "CustomerID     135080\n",
       "Country             0\n",
       "dtype: int64"
      ]
     },
     "execution_count": 9,
     "metadata": {
      "tags": []
     },
     "output_type": "execute_result"
    }
   ],
   "source": [
    "df.isnull().sum()"
   ]
  },
  {
   "cell_type": "markdown",
   "metadata": {
    "colab_type": "text",
    "id": "RhTSwNS9Bq8j"
   },
   "source": [
    "<br>\n",
    "Since we have sufficient data, we will drop all the rows with missing values."
   ]
  },
  {
   "cell_type": "code",
   "execution_count": 10,
   "metadata": {
    "colab": {
     "base_uri": "https://localhost:8080/",
     "height": 170
    },
    "colab_type": "code",
    "executionInfo": {
     "elapsed": 1242,
     "status": "ok",
     "timestamp": 1586265611682,
     "user": {
      "displayName": "Yatindra",
      "photoUrl": "https://lh3.googleusercontent.com/a-/AOh14GgYWe5t5ddtxjf1wN1CT9caIjN1wiTmokYK5c-Dfg=s64",
      "userId": "15503128090634612331"
     },
     "user_tz": -330
    },
    "id": "cWS9kqZqBq8j",
    "outputId": "e6eb46a9-4f16-4aa7-fdd6-6ff22cbcc036"
   },
   "outputs": [
    {
     "data": {
      "text/plain": [
       "InvoiceNo      0\n",
       "StockCode      0\n",
       "Description    0\n",
       "Quantity       0\n",
       "InvoiceDate    0\n",
       "UnitPrice      0\n",
       "CustomerID     0\n",
       "Country        0\n",
       "dtype: int64"
      ]
     },
     "execution_count": 10,
     "metadata": {
      "tags": []
     },
     "output_type": "execute_result"
    }
   ],
   "source": [
    "# remove missing values\n",
    "df.dropna(inplace=True)\n",
    "\n",
    "# again check missing values\n",
    "df.isnull().sum()"
   ]
  },
  {
   "cell_type": "markdown",
   "metadata": {
    "colab_type": "text",
    "id": "xD6GZD6LBq8q"
   },
   "source": [
    "-------------------------------------------------------\n",
    "\n",
    "### Data Preparation for Model\n",
    "\n",
    "-------------------------------------------------------\n",
    "\n"
   ]
  },
  {
   "cell_type": "markdown",
   "metadata": {
    "colab_type": "text",
    "id": "5GZYJZGrBq8q"
   },
   "source": [
    "Let's convert the StockCode to string datatype."
   ]
  },
  {
   "cell_type": "code",
   "execution_count": null,
   "metadata": {
    "colab": {},
    "colab_type": "code",
    "id": "bg8oWky1Bq8s"
   },
   "outputs": [],
   "source": [
    "df['StockCode']= df['StockCode'].astype(str)"
   ]
  },
  {
   "cell_type": "markdown",
   "metadata": {
    "colab_type": "text",
    "id": "1x08ME5KBq8v"
   },
   "source": [
    "Let's check out the number of unique customers in our dataset."
   ]
  },
  {
   "cell_type": "code",
   "execution_count": 12,
   "metadata": {
    "colab": {
     "base_uri": "https://localhost:8080/",
     "height": 34
    },
    "colab_type": "code",
    "executionInfo": {
     "elapsed": 1090,
     "status": "ok",
     "timestamp": 1586265616598,
     "user": {
      "displayName": "Yatindra",
      "photoUrl": "https://lh3.googleusercontent.com/a-/AOh14GgYWe5t5ddtxjf1wN1CT9caIjN1wiTmokYK5c-Dfg=s64",
      "userId": "15503128090634612331"
     },
     "user_tz": -330
    },
    "id": "e-Pnw_ixBq8v",
    "outputId": "ce14771c-e9f3-422f-9e6e-cf582cffeb87"
   },
   "outputs": [
    {
     "data": {
      "text/plain": [
       "4372"
      ]
     },
     "execution_count": 12,
     "metadata": {
      "tags": []
     },
     "output_type": "execute_result"
    }
   ],
   "source": [
    "customers = df[\"CustomerID\"].unique().tolist()\n",
    "len(customers)"
   ]
  },
  {
   "cell_type": "markdown",
   "metadata": {
    "colab_type": "text",
    "id": "tbmq4TsyBq8z"
   },
   "source": [
    "There are 4,372 customers in our dataset. For each of these customers we will extract their buying history. In other words, we can have 4,372 sequences of purchases."
   ]
  },
  {
   "cell_type": "markdown",
   "metadata": {
    "colab_type": "text",
    "id": "wdf4AAqlBq80"
   },
   "source": [
    "It is a good practice to set aside a small part of the dataset for validation purpose. Therefore, I will use data of 90% of the customers to create word2vec embeddings. Let's split the data."
   ]
  },
  {
   "cell_type": "code",
   "execution_count": null,
   "metadata": {
    "colab": {},
    "colab_type": "code",
    "id": "GNchx7qjBq81"
   },
   "outputs": [],
   "source": [
    "# shuffle customer ID's\n",
    "random.shuffle(customers)\n",
    "\n",
    "# extract 90% of customer ID's\n",
    "customers_train = [customers[i] for i in range(round(0.9*len(customers)))]\n",
    "\n",
    "# split data into train and validation set\n",
    "train_df = df[df['CustomerID'].isin(customers_train)]\n",
    "validation_df = df[~df['CustomerID'].isin(customers_train)]"
   ]
  },
  {
   "cell_type": "markdown",
   "metadata": {
    "colab_type": "text",
    "id": "nbxpyn4ZBq87"
   },
   "source": [
    "Let's create sequences of purchases made by the customers in the dataset for both the train and validation set."
   ]
  },
  {
   "cell_type": "code",
   "execution_count": 14,
   "metadata": {
    "colab": {
     "base_uri": "https://localhost:8080/",
     "height": 34
    },
    "colab_type": "code",
    "executionInfo": {
     "elapsed": 5438,
     "status": "ok",
     "timestamp": 1586265625400,
     "user": {
      "displayName": "Yatindra",
      "photoUrl": "https://lh3.googleusercontent.com/a-/AOh14GgYWe5t5ddtxjf1wN1CT9caIjN1wiTmokYK5c-Dfg=s64",
      "userId": "15503128090634612331"
     },
     "user_tz": -330
    },
    "id": "GAMDudXFBq87",
    "outputId": "c8fbc896-6f99-47fc-f0ee-6aab1ec646d2"
   },
   "outputs": [
    {
     "name": "stderr",
     "output_type": "stream",
     "text": [
      "100%|██████████| 3935/3935 [00:04<00:00, 880.00it/s]\n"
     ]
    }
   ],
   "source": [
    "# list to capture purchase history of the customers\n",
    "purchases_train = []\n",
    "\n",
    "# populate the list with the product codes\n",
    "for i in tqdm(customers_train):\n",
    "    temp = train_df[train_df[\"CustomerID\"] == i][\"StockCode\"].tolist()\n",
    "    purchases_train.append(temp)"
   ]
  },
  {
   "cell_type": "code",
   "execution_count": 15,
   "metadata": {
    "colab": {
     "base_uri": "https://localhost:8080/",
     "height": 34
    },
    "colab_type": "code",
    "executionInfo": {
     "elapsed": 1401,
     "status": "ok",
     "timestamp": 1586265628077,
     "user": {
      "displayName": "Yatindra",
      "photoUrl": "https://lh3.googleusercontent.com/a-/AOh14GgYWe5t5ddtxjf1wN1CT9caIjN1wiTmokYK5c-Dfg=s64",
      "userId": "15503128090634612331"
     },
     "user_tz": -330
    },
    "id": "f6feaGDoBq8-",
    "outputId": "97527c50-522d-4bf5-d466-f3314b5d789d"
   },
   "outputs": [
    {
     "name": "stderr",
     "output_type": "stream",
     "text": [
      "100%|██████████| 437/437 [00:00<00:00, 1185.01it/s]\n"
     ]
    }
   ],
   "source": [
    "# list to capture purchase history of the customers\n",
    "purchases_val = []\n",
    "\n",
    "# populate the list with the product codes\n",
    "for i in tqdm(validation_df['CustomerID'].unique()):\n",
    "    temp = validation_df[validation_df[\"CustomerID\"] == i][\"StockCode\"].tolist()\n",
    "    purchases_val.append(temp)"
   ]
  },
  {
   "cell_type": "markdown",
   "metadata": {
    "colab_type": "text",
    "id": "sYovYk9EBq9B"
   },
   "source": [
    "-------------------------------------------------------\n",
    "\n",
    "\n",
    "### Lets Build word2vec Embeddings for Products\n",
    "\n",
    "-------------------------------------------------------\n",
    "\n",
    "\n",
    "\n",
    "Note : As Model Training going to take some time So You can skip or stop below cell, if you can't wait to train your model and Directly load pretrain model from Next cell :"
   ]
  },
  {
   "cell_type": "code",
   "execution_count": null,
   "metadata": {
    "colab": {},
    "colab_type": "code",
    "id": "gfsrHL4C4LU3"
   },
   "outputs": [],
   "source": [
    "# train word2vec model\n",
    "model = Word2Vec(window = 10, sg = 1, hs = 0,\n",
    "                 negative = 10, # for negative sampling\n",
    "                 alpha=0.03, min_alpha=0.0007,\n",
    "                 seed = 14)\n",
    "\n",
    "model.build_vocab(purchases_train, progress_per=200)\n",
    "\n",
    "model.train(purchases_train, total_examples = model.corpus_count, \n",
    "            epochs=10, report_delay=1)\n",
    "\n",
    "# save word2vec model\n",
    "model.save(\"word2vec.model\")"
   ]
  },
  {
   "cell_type": "code",
   "execution_count": null,
   "metadata": {
    "colab": {},
    "colab_type": "code",
    "id": "JBnmmLsTzUgV"
   },
   "outputs": [],
   "source": [
    "model = Word2Vec.load(\"word2vec.model\")"
   ]
  },
  {
   "cell_type": "markdown",
   "metadata": {
    "colab_type": "text",
    "id": "2iNNxs_-Bq9K"
   },
   "source": [
    "As we do not plan to train the model any further, \n",
    "we are calling init_sims(), which will make the model much more memory-efficient."
   ]
  },
  {
   "cell_type": "code",
   "execution_count": null,
   "metadata": {
    "colab": {},
    "colab_type": "code",
    "id": "akvncrf5Bq9L"
   },
   "outputs": [],
   "source": [
    "model.init_sims(replace=True)"
   ]
  },
  {
   "cell_type": "code",
   "execution_count": 23,
   "metadata": {
    "colab": {
     "base_uri": "https://localhost:8080/",
     "height": 34
    },
    "colab_type": "code",
    "executionInfo": {
     "elapsed": 1506,
     "status": "ok",
     "timestamp": 1586265905650,
     "user": {
      "displayName": "Yatindra",
      "photoUrl": "https://lh3.googleusercontent.com/a-/AOh14GgYWe5t5ddtxjf1wN1CT9caIjN1wiTmokYK5c-Dfg=s64",
      "userId": "15503128090634612331"
     },
     "user_tz": -330
    },
    "id": "5hAXyBKKBq9O",
    "outputId": "33dc6a35-c114-4933-ba9d-95bfb72d90f0"
   },
   "outputs": [
    {
     "name": "stdout",
     "output_type": "stream",
     "text": [
      "Word2Vec(vocab=3169, size=100, alpha=0.03)\n"
     ]
    }
   ],
   "source": [
    "print(model)"
   ]
  },
  {
   "cell_type": "markdown",
   "metadata": {
    "colab_type": "text",
    "id": "CajR3QlmBq9U"
   },
   "source": [
    "Now we will extract the vectors of all the words in our vocabulary and store it in one place for easy access."
   ]
  },
  {
   "cell_type": "code",
   "execution_count": 24,
   "metadata": {
    "colab": {
     "base_uri": "https://localhost:8080/",
     "height": 34
    },
    "colab_type": "code",
    "executionInfo": {
     "elapsed": 1325,
     "status": "ok",
     "timestamp": 1586265911816,
     "user": {
      "displayName": "Yatindra",
      "photoUrl": "https://lh3.googleusercontent.com/a-/AOh14GgYWe5t5ddtxjf1wN1CT9caIjN1wiTmokYK5c-Dfg=s64",
      "userId": "15503128090634612331"
     },
     "user_tz": -330
    },
    "id": "fzVMXKisBq9V",
    "outputId": "5a33040f-94a8-4f59-abb2-238a25406059"
   },
   "outputs": [
    {
     "data": {
      "text/plain": [
       "(3169, 100)"
      ]
     },
     "execution_count": 24,
     "metadata": {
      "tags": []
     },
     "output_type": "execute_result"
    }
   ],
   "source": [
    "# extract all vectors\n",
    "X = model[model.wv.vocab]\n",
    "\n",
    "X.shape"
   ]
  },
  {
   "cell_type": "markdown",
   "metadata": {
    "colab_type": "text",
    "id": "vWzKxP8bBq9Y"
   },
   "source": [
    "-------------------------------------------------------\n",
    "\n",
    "### Visualize word2vec Embeddings\n",
    "\n",
    "-------------------------------------------------------\n",
    "\n"
   ]
  },
  {
   "cell_type": "markdown",
   "metadata": {
    "colab_type": "text",
    "id": "d7FN8iLpBq9Y"
   },
   "source": [
    "It is always quite helpful to visualize the embeddings that you have created. Over here we have 100 dimensional embeddings. We can't even visualize 4 dimensions let alone 100. Therefore, we are going to reduce the dimensions of the product embeddings from 100 to 2 by using the UMAP algorithm, it is used for dimensionality reduction. "
   ]
  },
  {
   "cell_type": "code",
   "execution_count": 25,
   "metadata": {
    "colab": {
     "base_uri": "https://localhost:8080/",
     "height": 554
    },
    "colab_type": "code",
    "executionInfo": {
     "elapsed": 21786,
     "status": "ok",
     "timestamp": 1586265935938,
     "user": {
      "displayName": "Yatindra",
      "photoUrl": "https://lh3.googleusercontent.com/a-/AOh14GgYWe5t5ddtxjf1wN1CT9caIjN1wiTmokYK5c-Dfg=s64",
      "userId": "15503128090634612331"
     },
     "user_tz": -330
    },
    "id": "0H94BRoQBq9Z",
    "outputId": "f620f112-291c-4444-df7a-e31b74fd01a3"
   },
   "outputs": [
    {
     "data": {
      "text/plain": [
       "<matplotlib.collections.PathCollection at 0x7fbf52e98ef0>"
      ]
     },
     "execution_count": 25,
     "metadata": {
      "tags": []
     },
     "output_type": "execute_result"
    },
    {
     "data": {
      "image/png": "[encoded data removed]",
      "text/plain": [
       "<Figure size 720x648 with 1 Axes>"
      ]
     },
     "metadata": {
      "tags": []
     },
     "output_type": "display_data"
    }
   ],
   "source": [
    "import umap\n",
    "\n",
    "cluster_embedding = umap.UMAP(n_neighbors=30, min_dist=0.0,\n",
    "                              n_components=2, random_state=42).fit_transform(X)\n",
    "\n",
    "plt.figure(figsize=(10,9))\n",
    "plt.scatter(cluster_embedding[:, 0], cluster_embedding[:, 1], s=3, cmap='Spectral')"
   ]
  },
  {
   "cell_type": "markdown",
   "metadata": {
    "colab_type": "text",
    "id": "PHBv4qCMBq9b"
   },
   "source": [
    "Every dot in this plot is a product. As you can see, there are several tiny clusters of these datapoints. These are groups of similar products."
   ]
  },
  {
   "cell_type": "markdown",
   "metadata": {
    "colab_type": "text",
    "id": "FlApUhveBq9c"
   },
   "source": [
    "-------------------------------------------------------\n",
    "\n",
    "### Start Recommending Products\n",
    "\n",
    "-------------------------------------------------------\n",
    "\n"
   ]
  },
  {
   "cell_type": "markdown",
   "metadata": {
    "colab_type": "text",
    "id": "ccumkY9hBq9c"
   },
   "source": [
    "### Congratulations! \n",
    "\n",
    "We are finally ready with the word2vec embeddings for every product in our online retail dataset. Now our next step is to suggest similar products for a certain product or a product's vector. "
   ]
  },
  {
   "cell_type": "markdown",
   "metadata": {
    "colab_type": "text",
    "id": "EnuZA6kHBq9d"
   },
   "source": [
    "Let's first create a product-ID and product-description dictionary to easily map a product's description to its ID and vice versa."
   ]
  },
  {
   "cell_type": "code",
   "execution_count": null,
   "metadata": {
    "colab": {},
    "colab_type": "code",
    "id": "EiqhyFmmBq9d"
   },
   "outputs": [],
   "source": [
    "products = train_df[[\"StockCode\", \"Description\"]]\n",
    "\n",
    "# remove duplicates\n",
    "products.drop_duplicates(inplace=True, subset='StockCode', keep=\"last\")\n",
    "\n",
    "# create product-ID and product-description dictionary\n",
    "products_dict = products.groupby('StockCode')['Description'].apply(list).to_dict()"
   ]
  },
  {
   "cell_type": "code",
   "execution_count": 27,
   "metadata": {
    "colab": {
     "base_uri": "https://localhost:8080/",
     "height": 34
    },
    "colab_type": "code",
    "executionInfo": {
     "elapsed": 1725,
     "status": "ok",
     "timestamp": 1586265950730,
     "user": {
      "displayName": "Yatindra",
      "photoUrl": "https://lh3.googleusercontent.com/a-/AOh14GgYWe5t5ddtxjf1wN1CT9caIjN1wiTmokYK5c-Dfg=s64",
      "userId": "15503128090634612331"
     },
     "user_tz": -330
    },
    "id": "WfuOB1KpBq9g",
    "outputId": "f250e4a4-7793-4fc8-dd92-3bddbcb21766"
   },
   "outputs": [
    {
     "data": {
      "text/plain": [
       "['RED WOOLLY HOTTIE WHITE HEART.']"
      ]
     },
     "execution_count": 27,
     "metadata": {
      "tags": []
     },
     "output_type": "execute_result"
    }
   ],
   "source": [
    "# test the dictionary\n",
    "products_dict['84029E']"
   ]
  },
  {
   "cell_type": "markdown",
   "metadata": {
    "colab_type": "text",
    "id": "K4mtejafBq9i"
   },
   "source": [
    "<br>\n",
    "\n",
    "I have defined the function below. It will take a product's vector (n) as input and return top 6 similar products."
   ]
  },
  {
   "cell_type": "code",
   "execution_count": null,
   "metadata": {
    "colab": {},
    "colab_type": "code",
    "id": "VoOr7Dh2Bq9i"
   },
   "outputs": [],
   "source": [
    "def similar_products(v, n = 6):\n",
    "    \n",
    "    # extract most similar products for the input vector\n",
    "    ms = model.similar_by_vector(v, topn= n+1)[1:]\n",
    "    \n",
    "    # extract name and similarity score of the similar products\n",
    "    new_ms = []\n",
    "    for j in ms:\n",
    "        pair = (products_dict[j[0]][0], j[1])\n",
    "        new_ms.append(pair)\n",
    "        \n",
    "    return new_ms        "
   ]
  },
  {
   "cell_type": "markdown",
   "metadata": {
    "colab_type": "text",
    "id": "Qq7J1_4eBq9m"
   },
   "source": [
    "Let's try out our function by passing the vector of the product '90019A' ('SILVER M.O.P ORBIT BRACELET')"
   ]
  },
  {
   "cell_type": "code",
   "execution_count": 29,
   "metadata": {
    "colab": {
     "base_uri": "https://localhost:8080/",
     "height": 119
    },
    "colab_type": "code",
    "executionInfo": {
     "elapsed": 1010,
     "status": "ok",
     "timestamp": 1586265959460,
     "user": {
      "displayName": "Yatindra",
      "photoUrl": "https://lh3.googleusercontent.com/a-/AOh14GgYWe5t5ddtxjf1wN1CT9caIjN1wiTmokYK5c-Dfg=s64",
      "userId": "15503128090634612331"
     },
     "user_tz": -330
    },
    "id": "8S5dda2iBq9p",
    "outputId": "47f53e94-4c4f-4279-f741-ae5b34f5a6ff"
   },
   "outputs": [
    {
     "data": {
      "text/plain": [
       "[('GREEN HEART OF GLASS BRACELET', 0.798067569732666),\n",
       " ('AMBER DROP EARRINGS W LONG BEADS', 0.7823165655136108),\n",
       " ('SILVER M.O.P ORBIT DROP EARRINGS', 0.7776885032653809),\n",
       " ('PINK BOUDICCA LARGE BRACELET', 0.774724006652832),\n",
       " ('JADE DROP EARRINGS W FILIGREE', 0.7740833759307861),\n",
       " ('ANT COPPER RED BOUDICCA BRACELET', 0.7625738978385925)]"
      ]
     },
     "execution_count": 29,
     "metadata": {
      "tags": []
     },
     "output_type": "execute_result"
    }
   ],
   "source": [
    "similar_products(model['90019A'])"
   ]
  },
  {
   "cell_type": "markdown",
   "metadata": {
    "colab_type": "text",
    "id": "5PpJmOMLBq9r"
   },
   "source": [
    "<br>\n",
    "\n",
    "Cool! The results are pretty relevant and match well with the input product. However, this output is based on the vector of a single product only. What if we want recommend a user products based on the multiple purchases he or she has made in the past?\n",
    "\n",
    "One simple solution is to take average of all the vectors of the products he has bought so far and use this resultant vector to find similar products. For that we will use the function below that takes in a list of product ID's and gives out a 100 dimensional vector which is mean of vectors of the products in the input list."
   ]
  },
  {
   "cell_type": "code",
   "execution_count": null,
   "metadata": {
    "colab": {},
    "colab_type": "code",
    "id": "h7sx_BOgBq9s"
   },
   "outputs": [],
   "source": [
    "def aggregate_vectors(products):\n",
    "    product_vec = []\n",
    "    for i in products:\n",
    "        try:\n",
    "            product_vec.append(model[i])\n",
    "        except KeyError:\n",
    "            continue\n",
    "        \n",
    "    return np.mean(product_vec, axis=0)"
   ]
  },
  {
   "cell_type": "markdown",
   "metadata": {
    "colab_type": "text",
    "id": "9_Ml4YO4Bq9v"
   },
   "source": [
    "If you can recall, we have already created a separate list of purchase sequences for validation purpose. Now let's make use of that."
   ]
  },
  {
   "cell_type": "code",
   "execution_count": 31,
   "metadata": {
    "colab": {
     "base_uri": "https://localhost:8080/",
     "height": 34
    },
    "colab_type": "code",
    "executionInfo": {
     "elapsed": 1965,
     "status": "ok",
     "timestamp": 1586265966762,
     "user": {
      "displayName": "Yatindra",
      "photoUrl": "https://lh3.googleusercontent.com/a-/AOh14GgYWe5t5ddtxjf1wN1CT9caIjN1wiTmokYK5c-Dfg=s64",
      "userId": "15503128090634612331"
     },
     "user_tz": -330
    },
    "id": "gqMWnQ-OBq9v",
    "outputId": "d624916c-bb4d-4e63-a606-df82e42cfc6e"
   },
   "outputs": [
    {
     "data": {
      "text/plain": [
       "359"
      ]
     },
     "execution_count": 31,
     "metadata": {
      "tags": []
     },
     "output_type": "execute_result"
    }
   ],
   "source": [
    "len(purchases_val[0])"
   ]
  },
  {
   "cell_type": "markdown",
   "metadata": {
    "colab_type": "text",
    "id": "p68Ztj23Bq9y"
   },
   "source": [
    "The length of the first list of products purchased by a user is 314. We will pass this products' sequence of the validation set to the function *aggregate_vectors*."
   ]
  },
  {
   "cell_type": "code",
   "execution_count": 32,
   "metadata": {
    "colab": {
     "base_uri": "https://localhost:8080/",
     "height": 34
    },
    "colab_type": "code",
    "executionInfo": {
     "elapsed": 1349,
     "status": "ok",
     "timestamp": 1586265969757,
     "user": {
      "displayName": "Yatindra",
      "photoUrl": "https://lh3.googleusercontent.com/a-/AOh14GgYWe5t5ddtxjf1wN1CT9caIjN1wiTmokYK5c-Dfg=s64",
      "userId": "15503128090634612331"
     },
     "user_tz": -330
    },
    "id": "uIbouHHlBq9y",
    "outputId": "f3ac2d08-7513-49bc-f310-a6cad22d93d0"
   },
   "outputs": [
    {
     "data": {
      "text/plain": [
       "(100,)"
      ]
     },
     "execution_count": 32,
     "metadata": {
      "tags": []
     },
     "output_type": "execute_result"
    }
   ],
   "source": [
    "aggregate_vectors(purchases_val[0]).shape"
   ]
  },
  {
   "cell_type": "markdown",
   "metadata": {
    "colab_type": "text",
    "id": "8FHVfHTnBq91"
   },
   "source": [
    "Well, the function has returned an array of 100 dimension. It means the function is working fine. Now we can use this result to get the most similar products. Let's do it."
   ]
  },
  {
   "cell_type": "code",
   "execution_count": 33,
   "metadata": {
    "colab": {
     "base_uri": "https://localhost:8080/",
     "height": 119
    },
    "colab_type": "code",
    "executionInfo": {
     "elapsed": 1230,
     "status": "ok",
     "timestamp": 1586265972631,
     "user": {
      "displayName": "Yatindra",
      "photoUrl": "https://lh3.googleusercontent.com/a-/AOh14GgYWe5t5ddtxjf1wN1CT9caIjN1wiTmokYK5c-Dfg=s64",
      "userId": "15503128090634612331"
     },
     "user_tz": -330
    },
    "id": "XTur1qYuBq92",
    "outputId": "f4094f0a-8700-4a8d-ce11-4a8a09a53fd8"
   },
   "outputs": [
    {
     "data": {
      "text/plain": [
       "[('TOY TIDY PINK POLKADOT', 0.7047410011291504),\n",
       " ('JUMBO STORAGE BAG SKULLS', 0.7007169723510742),\n",
       " ('LUNCH BAG CARS BLUE', 0.6992664933204651),\n",
       " ('LUNCH BAG RED RETROSPOT', 0.6990112662315369),\n",
       " ('JUMBO BAG RED RETROSPOT', 0.6974446773529053),\n",
       " ('CHARLOTTE BAG SUKI DESIGN', 0.6944633722305298)]"
      ]
     },
     "execution_count": 33,
     "metadata": {
      "tags": []
     },
     "output_type": "execute_result"
    }
   ],
   "source": [
    "similar_products(aggregate_vectors(purchases_val[0]))"
   ]
  },
  {
   "cell_type": "markdown",
   "metadata": {
    "colab_type": "text",
    "id": "jHkldQWJBq97"
   },
   "source": [
    "As it turns out, our system has recommended 6 products based on the entire purchase history of a user. Moreover, if you want to get products suggestions based on the last few purchases only then also you can use the same set of functions.\n",
    "\n",
    "Below I am giving only the last 10 products purchased as input."
   ]
  },
  {
   "cell_type": "code",
   "execution_count": 34,
   "metadata": {
    "colab": {
     "base_uri": "https://localhost:8080/",
     "height": 119
    },
    "colab_type": "code",
    "executionInfo": {
     "elapsed": 1452,
     "status": "ok",
     "timestamp": 1586265975376,
     "user": {
      "displayName": "Yatindra",
      "photoUrl": "https://lh3.googleusercontent.com/a-/AOh14GgYWe5t5ddtxjf1wN1CT9caIjN1wiTmokYK5c-Dfg=s64",
      "userId": "15503128090634612331"
     },
     "user_tz": -330
    },
    "id": "mLcyLOMnBq98",
    "outputId": "2ab1e174-1b01-4e92-d7f3-6d900eb7f2bd"
   },
   "outputs": [
    {
     "data": {
      "text/plain": [
       "[('TOY TIDY PINK POLKADOT', 0.7472281455993652),\n",
       " ('JUMBO STORAGE BAG SKULLS', 0.7310079336166382),\n",
       " ('JUMBO BAG RED RETROSPOT', 0.7146239280700684),\n",
       " ('JUMBO BAG PINK POLKADOT', 0.6919957399368286),\n",
       " ('JUMBO SHOPPER VINTAGE RED PAISLEY', 0.6838316321372986),\n",
       " ('JUMBO BAG STRAWBERRY', 0.6834717392921448)]"
      ]
     },
     "execution_count": 34,
     "metadata": {
      "tags": []
     },
     "output_type": "execute_result"
    }
   ],
   "source": [
    "similar_products(aggregate_vectors(purchases_val[0][-10:]))"
   ]
  },
  {
   "cell_type": "markdown",
   "metadata": {},
   "source": [
    "---------------------------------------\n",
    "### Thats it for Now\n",
    "\n",
    "up next we will look forward to Test and perfrom different NLP Approach.\n"
   ]
  }
 ],
 "metadata": {
  "colab": {
   "collapsed_sections": [
    "fGcfbhdHBq8e",
    "xD6GZD6LBq8q",
    "sYovYk9EBq9B"
   ],
   "name": "Word2Vec recommendation.ipynb",
   "provenance": [],
   "toc_visible": true
  },
  "kernelspec": {
   "display_name": "Python 3",
   "language": "python",
   "name": "python3"
  },
  "language_info": {
   "codemirror_mode": {
    "name": "ipython",
    "version": 3
   },
   "file_extension": ".py",
   "mimetype": "text/x-python",
   "name": "python",
   "nbconvert_exporter": "python",
   "pygments_lexer": "ipython3",
   "version": "3.7.7"
  }
 },
 "nbformat": 4,
 "nbformat_minor": 4
}
